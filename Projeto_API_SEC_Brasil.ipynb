{
  "nbformat": 4,
  "nbformat_minor": 0,
  "metadata": {
    "colab": {
      "name": "Projeto API SEC- Brasil.ipynb",
      "provenance": [],
      "collapsed_sections": [],
      "include_colab_link": true
    },
    "kernelspec": {
      "display_name": "Python 3",
      "language": "python",
      "name": "python3"
    },
    "language_info": {
      "codemirror_mode": {
        "name": "ipython",
        "version": 3
      },
      "file_extension": ".py",
      "mimetype": "text/x-python",
      "name": "python",
      "nbconvert_exporter": "python",
      "pygments_lexer": "ipython3",
      "version": "3.8.10"
    },
    "toc": {
      "base_numbering": 1,
      "nav_menu": {},
      "number_sections": true,
      "sideBar": true,
      "skip_h1_title": false,
      "title_cell": "Table of Contents",
      "title_sidebar": "Contents",
      "toc_cell": false,
      "toc_position": {},
      "toc_section_display": true,
      "toc_window_display": false
    }
  },
  "cells": [
    {
      "cell_type": "markdown",
      "metadata": {
        "id": "view-in-github",
        "colab_type": "text"
      },
      "source": [
        "<a href=\"https://colab.research.google.com/github/ericvillaceconomist/API-U.S.-Securities-and-Exchange-Commission-SEC-/blob/main/Projeto_API_SEC_Brasil.ipynb\" target=\"_parent\"><img src=\"https://colab.research.google.com/assets/colab-badge.svg\" alt=\"Open In Colab\"/></a>"
      ]
    },
    {
      "cell_type": "markdown",
      "metadata": {
        "id": "51M4BESAEj26"
      },
      "source": [
        "# O objetivo deste projeto é coletar dados de empresas listadas nas bolsas de valores norte-americanas que siga o US-GAAP.\n",
        "\n",
        "# Será gerado um método para automatizar e escalar a consulta \n",
        "\n",
        "\n",
        "\n",
        "Autor: Eric Villac, FMVA"
      ]
    },
    {
      "cell_type": "code",
      "metadata": {
        "colab": {
          "base_uri": "https://localhost:8080/"
        },
        "id": "Nnt01VH-Wf4m",
        "outputId": "ecad20fc-e307-4d14-92a7-34e9ee4b7e17"
      },
      "source": [
        "!pip install bs4"
      ],
      "execution_count": null,
      "outputs": [
        {
          "output_type": "stream",
          "text": [
            "Requirement already satisfied: bs4 in /usr/local/lib/python3.7/dist-packages (0.0.1)\n",
            "Requirement already satisfied: beautifulsoup4 in /usr/local/lib/python3.7/dist-packages (from bs4) (4.6.3)\n"
          ],
          "name": "stdout"
        }
      ]
    },
    {
      "cell_type": "code",
      "metadata": {
        "ExecuteTime": {
          "end_time": "2021-08-12T19:57:23.082620Z",
          "start_time": "2021-08-12T19:57:21.415128Z"
        },
        "colab": {
          "base_uri": "https://localhost:8080/"
        },
        "id": "dIVlnWgOFFwQ",
        "outputId": "3bc7f38b-fdcf-4a42-dc4a-16419540444d"
      },
      "source": [
        "!pip install fsspec\n",
        "import pandas as pd\n",
        "import requests\n",
        "from urllib.request import urlopen, urlretrieve\n",
        "from bs4 import BeautifulSoup\n",
        "import pandas as pd\n",
        "from urllib.request import Request\n",
        "from urllib.error import URLError, HTTPError"
      ],
      "execution_count": null,
      "outputs": [
        {
          "output_type": "stream",
          "text": [
            "Collecting fsspec\n",
            "  Downloading fsspec-2021.7.0-py3-none-any.whl (118 kB)\n",
            "\u001b[?25l\r\u001b[K     |██▊                             | 10 kB 22.8 MB/s eta 0:00:01\r\u001b[K     |█████▌                          | 20 kB 28.9 MB/s eta 0:00:01\r\u001b[K     |████████▎                       | 30 kB 19.3 MB/s eta 0:00:01\r\u001b[K     |███████████                     | 40 kB 15.8 MB/s eta 0:00:01\r\u001b[K     |█████████████▉                  | 51 kB 10.8 MB/s eta 0:00:01\r\u001b[K     |████████████████▋               | 61 kB 8.5 MB/s eta 0:00:01\r\u001b[K     |███████████████████▍            | 71 kB 9.5 MB/s eta 0:00:01\r\u001b[K     |██████████████████████▏         | 81 kB 10.6 MB/s eta 0:00:01\r\u001b[K     |█████████████████████████       | 92 kB 9.2 MB/s eta 0:00:01\r\u001b[K     |███████████████████████████▊    | 102 kB 10.1 MB/s eta 0:00:01\r\u001b[K     |██████████████████████████████▌ | 112 kB 10.1 MB/s eta 0:00:01\r\u001b[K     |████████████████████████████████| 118 kB 10.1 MB/s \n",
            "\u001b[?25hInstalling collected packages: fsspec\n",
            "Successfully installed fsspec-2021.7.0\n"
          ],
          "name": "stdout"
        }
      ]
    },
    {
      "cell_type": "markdown",
      "metadata": {
        "id": "nGY5pQMMZske"
      },
      "source": [
        "Site para consulta dos CIKs (site for query CIKs):\n",
        "\n",
        "https://www.sec.gov/edgar/searchedgar/companysearch.html"
      ]
    },
    {
      "cell_type": "markdown",
      "metadata": {
        "id": "nLSHWG3F0ZTi"
      },
      "source": [
        "https://www.sec.gov/Archives/edgar/cik-lookup-data.txt"
      ]
    },
    {
      "cell_type": "markdown",
      "metadata": {
        "id": "8VKmxP7NZFYt"
      },
      "source": [
        "# **MUITA ATENÇÃO!**\n",
        "\n",
        "Caso as células não rodem:\n",
        "\n",
        "1. Abrir o link url (logo abaixo);\n",
        "2. rodar novamente o códgio.\n",
        "\n",
        "\n",
        "Caso os métodos não rodem:\n",
        "\n",
        "1. Abrir o link url (logo abaixo);\n",
        "2. rodar novamente o código.\n",
        "\n",
        "Nesse caso, se constar que a conta não existe, optar pela consulta da empresa com uma conta determinada.\n",
        "\n"
      ]
    },
    {
      "cell_type": "markdown",
      "metadata": {
        "id": "Lu-d1T2tiv5u"
      },
      "source": [
        "# **PAY ATTENTION!**\n",
        "\n",
        "If the cells do not rotate:\n",
        "\n",
        "1. Open the url link (just below);\n",
        "2. run the code again.\n",
        "\n",
        "\n",
        "If the methods don't run:\n",
        "\n",
        "1. Open the url link (just below);\n",
        "2. run the code again.\n",
        "\n",
        "In this case, if it appears that the account does not exist, choose to consult the company with a specific account."
      ]
    },
    {
      "cell_type": "markdown",
      "metadata": {
        "id": "bRj7hKchUmhD"
      },
      "source": [
        "# Testando o funcionamento do link. Nesse caso é bom abrir o link no navegador primeiro para testar e visualizar a abertura da API.\n",
        "\n",
        "# Testing the link. In that case it's good to open the link in the browser first to test and preview the API opening."
      ]
    },
    {
      "cell_type": "markdown",
      "metadata": {
        "id": "F1gzdRucaBxD"
      },
      "source": [
        "Exemplo abaixo Exxon Mobil\n",
        "\n",
        "![exxon-mobil.jpg](data:image/jpeg;base64,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)"
      ]
    },
    {
      "cell_type": "code",
      "metadata": {
        "ExecuteTime": {
          "end_time": "2021-08-12T19:58:04.306616Z",
          "start_time": "2021-08-12T19:58:04.302999Z"
        },
        "id": "bKB22JwgMCm9"
      },
      "source": [
        "url = 'https://data.sec.gov/api/xbrl/companyfacts/CIK0000034088.json'"
      ],
      "execution_count": null,
      "outputs": []
    },
    {
      "cell_type": "code",
      "metadata": {
        "ExecuteTime": {
          "end_time": "2021-08-12T19:58:07.104465Z",
          "start_time": "2021-08-12T19:58:05.085016Z"
        },
        "id": "K-kK-0PUJkd8"
      },
      "source": [
        "response = requests.get(url)\n",
        "df = pd.read_json(response.text)"
      ],
      "execution_count": null,
      "outputs": []
    },
    {
      "cell_type": "code",
      "metadata": {
        "ExecuteTime": {
          "end_time": "2021-08-12T19:58:09.619740Z",
          "start_time": "2021-08-12T19:58:09.611499Z"
        },
        "colab": {
          "base_uri": "https://localhost:8080/"
        },
        "id": "B0NHLNLdFXeV",
        "outputId": "b2088d5a-4789-4537-9ea9-d60a555c52ab"
      },
      "source": [
        "type(df)"
      ],
      "execution_count": null,
      "outputs": [
        {
          "output_type": "execute_result",
          "data": {
            "text/plain": [
              "pandas.core.frame.DataFrame"
            ]
          },
          "metadata": {
            "tags": []
          },
          "execution_count": 5
        }
      ]
    },
    {
      "cell_type": "code",
      "metadata": {
        "ExecuteTime": {
          "end_time": "2021-08-12T19:58:11.003806Z",
          "start_time": "2021-08-12T19:58:10.934584Z"
        },
        "colab": {
          "base_uri": "https://localhost:8080/",
          "height": 110
        },
        "id": "cZ-XnbLRFXeV",
        "outputId": "e8f8b74a-5334-4436-ad0e-1d5d08e0ebce"
      },
      "source": [
        "df1 = pd.DataFrame(df)\n",
        "df1.head()"
      ],
      "execution_count": null,
      "outputs": [
        {
          "output_type": "execute_result",
          "data": {
            "text/html": [
              "<div>\n",
              "<style scoped>\n",
              "    .dataframe tbody tr th:only-of-type {\n",
              "        vertical-align: middle;\n",
              "    }\n",
              "\n",
              "    .dataframe tbody tr th {\n",
              "        vertical-align: top;\n",
              "    }\n",
              "\n",
              "    .dataframe thead th {\n",
              "        text-align: right;\n",
              "    }\n",
              "</style>\n",
              "<table border=\"1\" class=\"dataframe\">\n",
              "  <thead>\n",
              "    <tr style=\"text-align: right;\">\n",
              "      <th></th>\n",
              "      <th>cik</th>\n",
              "      <th>entityName</th>\n",
              "      <th>facts</th>\n",
              "    </tr>\n",
              "  </thead>\n",
              "  <tbody>\n",
              "    <tr>\n",
              "      <th>dei</th>\n",
              "      <td>34088</td>\n",
              "      <td>Exxon Mobil Corporation</td>\n",
              "      <td>{'EntityCommonStockSharesOutstanding': {'label...</td>\n",
              "    </tr>\n",
              "    <tr>\n",
              "      <th>us-gaap</th>\n",
              "      <td>34088</td>\n",
              "      <td>Exxon Mobil Corporation</td>\n",
              "      <td>{'AccountsAndFinancingReceivableAllowanceForCr...</td>\n",
              "    </tr>\n",
              "  </tbody>\n",
              "</table>\n",
              "</div>"
            ],
            "text/plain": [
              "           cik  ...                                              facts\n",
              "dei      34088  ...  {'EntityCommonStockSharesOutstanding': {'label...\n",
              "us-gaap  34088  ...  {'AccountsAndFinancingReceivableAllowanceForCr...\n",
              "\n",
              "[2 rows x 3 columns]"
            ]
          },
          "metadata": {
            "tags": []
          },
          "execution_count": 6
        }
      ]
    },
    {
      "cell_type": "markdown",
      "metadata": {
        "id": "z3km6IgJVckA"
      },
      "source": [
        "# **Cash flow Example**"
      ]
    },
    {
      "cell_type": "code",
      "metadata": {
        "id": "fkhynsVHli5x"
      },
      "source": [
        "def Consult3Accounts(cik,s1,s2,s3):\n",
        "  url = f'https://data.sec.gov/api/xbrl/companyfacts/CIK{cik}.json'\n",
        "  response = requests.get(url)\n",
        "  df = pd.read_json(response.text)\n",
        "  empresa = df['entityName']['us-gaap']\n",
        "  print(empresa)\n",
        "\n",
        "  #Here, after naming accounts, they are put in a list, in order to iterate them.\n",
        "  lista_entities = [s1,s2,s3]\n",
        "\n",
        "  list_results, list_labels = [], []\n",
        "  for entity in lista_entities:\n",
        "    print(entity)\n",
        "    label = df['facts']['us-gaap'][entity]['label']\n",
        "    list_labels.append(label)\n",
        "    print(label)\n",
        "    df_model = pd.DataFrame(df['facts']['us-gaap'][entity]['units']['USD'])\n",
        "    # We are going to filter and extract the columns of interest\n",
        "    df_model.loc[df_model['form'] == '10-K',['end','filed','val']]\n",
        "\n",
        "    result_tmp = df_model.loc[df_model['form'] == '10-K',['end','val']].set_index('end').copy()\n",
        "    result_tmp = result_tmp.rename({'val': label}, axis=1)\n",
        "    list_results.append(result_tmp)\n",
        "    print(\"===\")\n",
        "\n",
        "#Finally, we get a .xlsx (excel) to work in case we want to model data\n",
        "  df_final = pd.concat(list_results, axis=1)\n",
        "  df_final.to_excel(f'{empresa}.xlsx')\n",
        "  print(df_final)"
      ],
      "execution_count": null,
      "outputs": []
    },
    {
      "cell_type": "code",
      "metadata": {
        "colab": {
          "base_uri": "https://localhost:8080/"
        },
        "id": "ynLBD69_mDAE",
        "outputId": "8f0cfc7f-98f9-4a84-8450-9aa74b1dc4a8"
      },
      "source": [
        "Consult3Accounts('0000034088','NetCashProvidedByUsedInOperatingActivities','NetCashProvidedByUsedInInvestingActivities','NetCashProvidedByUsedInFinancingActivities')"
      ],
      "execution_count": null,
      "outputs": [
        {
          "output_type": "stream",
          "text": [
            "Exxon Mobil Corporation\n",
            "NetCashProvidedByUsedInOperatingActivities\n",
            "Net Cash Provided by (Used in) Operating Activities\n",
            "===\n",
            "NetCashProvidedByUsedInInvestingActivities\n",
            "Net Cash Provided by (Used in) Investing Activities\n",
            "===\n",
            "NetCashProvidedByUsedInFinancingActivities\n",
            "Net Cash Provided by (Used in) Financing Activities\n",
            "===\n",
            "            Net Cash Provided by (Used in) Operating Activities  ...  Net Cash Provided by (Used in) Financing Activities\n",
            "end                                                              ...                                                     \n",
            "2007-12-31                                        52002000000    ...                                       -38345000000  \n",
            "2008-12-31                                        59725000000    ...                                       -44027000000  \n",
            "2008-12-31                                        59725000000    ...                                       -44027000000  \n",
            "2009-12-31                                        28438000000    ...                                       -27283000000  \n",
            "2009-12-31                                        28438000000    ...                                       -27283000000  \n",
            "2009-12-31                                        28438000000    ...                                       -27283000000  \n",
            "2010-12-31                                        48413000000    ...                                       -26924000000  \n",
            "2010-12-31                                        48413000000    ...                                       -26924000000  \n",
            "2010-12-31                                        48413000000    ...                                       -26924000000  \n",
            "2011-12-31                                        55345000000    ...                                       -28256000000  \n",
            "2011-12-31                                        55345000000    ...                                       -28256000000  \n",
            "2012-12-31                                        56170000000    ...                                       -33868000000  \n",
            "2015-12-31                                        30344000000    ...                                        -7037000000  \n",
            "2016-12-31                                        22082000000    ...                                        -9293000000  \n",
            "2016-12-31                                        22082000000    ...                                        -9293000000  \n",
            "2017-12-31                                        30066000000    ...                                       -15130000000  \n",
            "2017-12-31                                        30066000000    ...                                       -15130000000  \n",
            "2017-12-31                                        30066000000    ...                                       -15130000000  \n",
            "2018-12-31                                        36014000000    ...                                       -19446000000  \n",
            "2018-12-31                                        36014000000    ...                                       -19446000000  \n",
            "2018-12-31                                        36014000000    ...                                       -19446000000  \n",
            "2019-12-31                                        29716000000    ...                                        -6618000000  \n",
            "2019-12-31                                        29716000000    ...                                        -6618000000  \n",
            "2020-12-31                                        14668000000    ...                                         5285000000  \n",
            "\n",
            "[24 rows x 3 columns]\n"
          ],
          "name": "stdout"
        }
      ]
    },
    {
      "cell_type": "code",
      "metadata": {
        "colab": {
          "base_uri": "https://localhost:8080/"
        },
        "id": "7f76djV-x9WE",
        "outputId": "c6597fee-cd17-405e-a513-a4505d67eabd"
      },
      "source": [
        "Consult3Accounts('0000789019','NetCashProvidedByUsedInOperatingActivities','NetCashProvidedByUsedInInvestingActivities','NetCashProvidedByUsedInFinancingActivities')"
      ],
      "execution_count": null,
      "outputs": [
        {
          "output_type": "stream",
          "text": [
            "MICROSOFT CORPORATION\n",
            "NetCashProvidedByUsedInOperatingActivities\n",
            "Net Cash Provided by (Used in) Operating Activities\n",
            "===\n",
            "NetCashProvidedByUsedInInvestingActivities\n",
            "Net Cash Provided by (Used in) Investing Activities\n",
            "===\n",
            "NetCashProvidedByUsedInFinancingActivities\n",
            "Net Cash Provided by (Used in) Financing Activities\n",
            "===\n",
            "            Net Cash Provided by (Used in) Operating Activities  ...  Net Cash Provided by (Used in) Financing Activities\n",
            "end                                                              ...                                                     \n",
            "2008-06-30                                        21612000000    ...                                       -12934000000  \n",
            "2009-06-30                                        19037000000    ...                                        -7463000000  \n",
            "2009-06-30                                        19037000000    ...                                        -7463000000  \n",
            "2010-06-30                                        24073000000    ...                                       -13291000000  \n",
            "2010-06-30                                        24073000000    ...                                       -13291000000  \n",
            "2010-06-30                                        24073000000    ...                                       -13291000000  \n",
            "2011-06-30                                        26994000000    ...                                        -8376000000  \n",
            "2011-06-30                                        26994000000    ...                                        -8376000000  \n",
            "2011-06-30                                        26994000000    ...                                        -8376000000  \n",
            "2012-06-30                                        31626000000    ...                                        -9408000000  \n",
            "2012-06-30                                        31626000000    ...                                        -9408000000  \n",
            "2013-06-30                                        28833000000    ...                                        -8148000000  \n",
            "2016-06-30                                        33325000000    ...                                        -8393000000  \n",
            "2017-06-30                                        39507000000    ...                                         8408000000  \n",
            "2017-06-30                                        39507000000    ...                                         8408000000  \n",
            "2018-06-30                                        43884000000    ...                                       -33590000000  \n",
            "2018-06-30                                        43884000000    ...                                       -33590000000  \n",
            "2018-06-30                                        43884000000    ...                                       -33590000000  \n",
            "2019-06-30                                        52185000000    ...                                       -36887000000  \n",
            "2019-06-30                                        52185000000    ...                                       -36887000000  \n",
            "2019-06-30                                        52185000000    ...                                       -36887000000  \n",
            "2020-06-30                                        60675000000    ...                                       -46031000000  \n",
            "2020-06-30                                        60675000000    ...                                       -46031000000  \n",
            "2021-06-30                                        76740000000    ...                                       -48486000000  \n",
            "\n",
            "[24 rows x 3 columns]\n"
          ],
          "name": "stdout"
        }
      ]
    },
    {
      "cell_type": "code",
      "metadata": {
        "ExecuteTime": {
          "end_time": "2021-08-12T19:58:07.104465Z",
          "start_time": "2021-08-12T19:58:05.085016Z"
        },
        "colab": {
          "base_uri": "https://localhost:8080/"
        },
        "id": "zMCxnthZxcBa",
        "outputId": "188c0944-bfb7-4284-80c5-8e23db3b1164"
      },
      "source": [
        "Consult3Accounts('0000093410','NetCashProvidedByUsedInOperatingActivities','NetCashProvidedByUsedInInvestingActivities','NetCashProvidedByUsedInFinancingActivities')"
      ],
      "execution_count": null,
      "outputs": [
        {
          "output_type": "stream",
          "text": [
            "Chevron Corp\n",
            "NetCashProvidedByUsedInOperatingActivities\n",
            "Net Cash Provided by (Used in) Operating Activities\n",
            "===\n",
            "NetCashProvidedByUsedInInvestingActivities\n",
            "Net Cash Provided by (Used in) Investing Activities\n",
            "===\n",
            "NetCashProvidedByUsedInFinancingActivities\n",
            "Net Cash Provided by (Used in) Financing Activities\n",
            "===\n",
            "            Net Cash Provided by (Used in) Operating Activities  ...  Net Cash Provided by (Used in) Financing Activities\n",
            "end                                                              ...                                                     \n",
            "2007-12-31                                        24977000000    ...                                       -14295000000  \n",
            "2008-12-31                                        29632000000    ...                                       -10400000000  \n",
            "2008-12-31                                        29632000000    ...                                       -10400000000  \n",
            "2009-12-31                                        19373000000    ...                                        -3546000000  \n",
            "2009-12-31                                        19373000000    ...                                        -3546000000  \n",
            "2009-12-31                                        19373000000    ...                                        -3546000000  \n",
            "2010-12-31                                        31359000000    ...                                        -5170000000  \n",
            "2010-12-31                                        31359000000    ...                                        -5170000000  \n",
            "2010-12-31                                        31354000000    ...                                        -5165000000  \n",
            "2011-12-31                                        41098000000    ...                                       -11772000000  \n",
            "2011-12-31                                        41095000000    ...                                       -11769000000  \n",
            "2011-12-31                                        41095000000    ...                                       -11769000000  \n",
            "2012-12-31                                        38812000000    ...                                        -8980000000  \n",
            "2012-12-31                                        38812000000    ...                                        -8980000000  \n",
            "2012-12-31                                        38812000000    ...                                        -8980000000  \n",
            "2013-12-31                                        35002000000    ...                                        -3821000000  \n",
            "2013-12-31                                        35002000000    ...                                        -3821000000  \n",
            "2013-12-31                                        35002000000    ...                                        -3821000000  \n",
            "2014-12-31                                        31475000000    ...                                        -4999000000  \n",
            "2014-12-31                                        31475000000    ...                                        -4999000000  \n",
            "2014-12-31                                        31475000000    ...                                        -4999000000  \n",
            "2015-12-31                                        19456000000    ...                                         2815000000  \n",
            "2015-12-31                                        19456000000    ...                                         2815000000  \n",
            "2015-12-31                                        19456000000    ...                                         2815000000  \n",
            "2016-12-31                                        12846000000    ...                                           25000000  \n",
            "2016-12-31                                        12846000000    ...                                           25000000  \n",
            "2016-12-31                                        12690000000    ...                                           25000000  \n",
            "2017-12-31                                        20515000000    ...                                       -14554000000  \n",
            "2017-12-31                                        20338000000    ...                                       -14554000000  \n",
            "2017-12-31                                        20338000000    ...                                       -14554000000  \n",
            "2018-12-31                                        30618000000    ...                                       -13699000000  \n",
            "2018-12-31                                        30618000000    ...                                       -13699000000  \n",
            "2018-12-31                                        30618000000    ...                                       -13699000000  \n",
            "2019-12-31                                        27314000000    ...                                       -19758000000  \n",
            "2019-12-31                                        27314000000    ...                                       -19758000000  \n",
            "2020-12-31                                        10577000000    ...                                        -3736000000  \n",
            "\n",
            "[36 rows x 3 columns]\n"
          ],
          "name": "stdout"
        }
      ]
    },
    {
      "cell_type": "code",
      "metadata": {
        "colab": {
          "base_uri": "https://localhost:8080/"
        },
        "id": "ipx1Y2nFmQqx",
        "outputId": "d8062e3a-f791-4161-c84e-15b562281d4b"
      },
      "source": [
        "Consult3Accounts('0000936468','NetCashProvidedByUsedInOperatingActivities','NetCashProvidedByUsedInInvestingActivities','NetCashProvidedByUsedInFinancingActivities')\n"
      ],
      "execution_count": null,
      "outputs": [
        {
          "output_type": "stream",
          "text": [
            "LOCKHEED MARTIN CORPORATION\n",
            "NetCashProvidedByUsedInOperatingActivities\n",
            "Net Cash Provided by (Used in) Operating Activities\n",
            "===\n",
            "NetCashProvidedByUsedInInvestingActivities\n",
            "Net Cash Provided by (Used in) Investing Activities\n",
            "===\n",
            "NetCashProvidedByUsedInFinancingActivities\n",
            "Net Cash Provided by (Used in) Financing Activities\n",
            "===\n",
            "            Net Cash Provided by (Used in) Operating Activities  ...  Net Cash Provided by (Used in) Financing Activities\n",
            "end                                                              ...                                                     \n",
            "2007-12-31                                         4238000000    ...                                        -2300000000  \n",
            "2008-12-31                                         4421000000    ...                                        -3938000000  \n",
            "2008-12-31                                         4421000000    ...                                        -3938000000  \n",
            "2009-12-31                                         3173000000    ...                                        -1476000000  \n",
            "2009-12-31                                         3173000000    ...                                        -1476000000  \n",
            "2009-12-31                                         3487000000    ...                                        -1432000000  \n",
            "2010-12-31                                         3547000000    ...                                        -3363000000  \n",
            "2010-12-31                                         3801000000    ...                                        -3358000000  \n",
            "2010-12-31                                         3801000000    ...                                        -3358000000  \n",
            "2011-12-31                                         4253000000    ...                                        -2119000000  \n",
            "2011-12-31                                         4253000000    ...                                        -2119000000  \n",
            "2011-12-31                                         4253000000    ...                                        -2144000000  \n",
            "2012-12-31                                         1561000000    ...                                        -2023000000  \n",
            "2012-12-31                                         1561000000    ...                                        -2068000000  \n",
            "2012-12-31                                         1561000000    ...                                        -2068000000  \n",
            "2013-12-31                                         4546000000    ...                                        -2706000000  \n",
            "2013-12-31                                         4546000000    ...                                        -2706000000  \n",
            "2013-12-31                                         4546000000    ...                                        -2706000000  \n",
            "2014-12-31                                         3866000000    ...                                        -3314000000  \n",
            "2014-12-31                                         3866000000    ...                                        -3314000000  \n",
            "2014-12-31                                         3866000000    ...                                        -3314000000  \n",
            "2015-12-31                                         5101000000    ...                                         4277000000  \n",
            "2015-12-31                                         5101000000    ...                                         4277000000  \n",
            "2015-12-31                                         5101000000    ...                                         4277000000  \n",
            "2016-12-31                                         5189000000    ...                                        -3457000000  \n",
            "2016-12-31                                         5189000000    ...                                        -3457000000  \n",
            "2016-12-31                                         5189000000    ...                                        -3457000000  \n",
            "2017-12-31                                         6476000000    ...                                        -4305000000  \n",
            "2017-12-31                                         6476000000    ...                                        -4305000000  \n",
            "2017-12-31                                         6476000000    ...                                        -4305000000  \n",
            "2018-12-31                                         3138000000    ...                                        -4152000000  \n",
            "2018-12-31                                         3138000000    ...                                        -4152000000  \n",
            "2018-12-31                                         3138000000    ...                                        -4152000000  \n",
            "2019-12-31                                         7311000000    ...                                        -5328000000  \n",
            "2019-12-31                                         7311000000    ...                                        -5328000000  \n",
            "2020-12-31                                         8183000000    ...                                        -4527000000  \n",
            "\n",
            "[36 rows x 3 columns]\n"
          ],
          "name": "stdout"
        }
      ]
    },
    {
      "cell_type": "markdown",
      "metadata": {
        "id": "bTMDMkpqTekp"
      },
      "source": [
        "# **Income Statement, equivalent to DRE in Brazil**"
      ]
    },
    {
      "cell_type": "markdown",
      "metadata": {
        "id": "6DA7CTpchC3d"
      },
      "source": [
        "The method below is not useful if you want to scalate for \"n\" accounts, however fill the gap in case that you want to choose each account in json, and the general method does not correspond to it.\n",
        "\n",
        "The example consider some accounts of the Income Statement (DRE in Brazil)"
      ]
    },
    {
      "cell_type": "markdown",
      "metadata": {
        "id": "SvtPdiLjbD6V"
      },
      "source": [
        "# Método DRE"
      ]
    },
    {
      "cell_type": "code",
      "metadata": {
        "id": "INsrEM1GSBIZ"
      },
      "source": [
        "def dre_empresa(cik):\n",
        "  url = f'https://data.sec.gov/api/xbrl/companyfacts/CIK{cik}.json'\n",
        "  response = requests.get(url)\n",
        "  df = pd.read_json(response.text)\n",
        "  empresa = df['entityName']['us-gaap']\n",
        "\n",
        "\n",
        "    #pegando DRE\n",
        "\n",
        "  #1. PRIMEIRO\n",
        "  data1 = []\n",
        "  data2 = []\n",
        "  data3 = []\n",
        "\n",
        "  nome1 = df['facts']['us-gaap']['Revenues']['label']\n",
        "\n",
        "  for i in df['facts']['us-gaap']['Revenues']['units']['USD']:\n",
        "    if i['form']== '10-K':\n",
        "      data1.append(i['end'])\n",
        "      data2.append(i['filed']) \n",
        "      data3.append(i['val']) \n",
        "  \n",
        "    else:\n",
        "      pass\n",
        "\n",
        "  data1 = pd.DataFrame(data1)\n",
        "  data1.columns =['Data end']\n",
        "  data11 = data1.drop_duplicates(subset='Data end', keep='first')\n",
        "\n",
        "  data3 = pd.DataFrame(data3)\n",
        "  data3.columns =[nome1]\n",
        "  data33 = data3.drop_duplicates(subset=nome1, keep='first')\n",
        "\n",
        "  result1 = pd.concat([data11, data33], axis=1)\n",
        "\n",
        "  #2. SEGUNDO\n",
        "\n",
        "\n",
        "\n",
        "  data10 = []\n",
        "  data11 = []\n",
        "  data12 = []\n",
        "\n",
        "  nome4 = df['facts']['us-gaap']['InterestExpense']['label']\n",
        "\n",
        "\n",
        "  for i in df['facts']['us-gaap']['InterestExpense']['units']['USD']:\n",
        "    if i['form']== '10-K':\n",
        "      data10.append(i['end'])\n",
        "      data11.append(i['filed']) \n",
        "      data12.append(i['val']) \n",
        "  \n",
        "    else:\n",
        "      pass\n",
        "\n",
        "  data10 = pd.DataFrame(data10)\n",
        "  data10.columns =['Data end']\n",
        "  data100 = data10.drop_duplicates(subset='Data end', keep='first')\n",
        "\n",
        "  data12 = pd.DataFrame(data12)\n",
        "  data12.columns =[nome4]\n",
        "  data122 = data12.drop_duplicates(subset=nome4, keep='first')\n",
        "\n",
        "  result4 = pd.concat([data100, data122], axis=1)\n",
        "\n",
        "  #3. TERCEIRO\n",
        "\n",
        "\n",
        "  data13 = []\n",
        "  data14 = []\n",
        "  data15 = []\n",
        "\n",
        "  nome5 = df['facts']['us-gaap']['IncomeTaxesPaidNet']['label']\n",
        "\n",
        "\n",
        "  for i in df['facts']['us-gaap']['IncomeTaxesPaidNet']['units']['USD']:\n",
        "    if i['form']== '10-K':\n",
        "      data13.append(i['end'])\n",
        "      data14.append(i['filed']) \n",
        "      data15.append(i['val']) \n",
        "  \n",
        "    else:\n",
        "      pass\n",
        "\n",
        "  data13 = pd.DataFrame(data13)\n",
        "  data13.columns =['Data end']\n",
        "  data133 = data13.drop_duplicates(subset='Data end', keep='first')\n",
        "\n",
        "  data15 = pd.DataFrame(data15)\n",
        "  data15.columns =[nome5]\n",
        "  data155 = data15.drop_duplicates(subset=nome5, keep='first')\n",
        "\n",
        "  result5 = pd.concat([data133, data155], axis=1)\n",
        "\n",
        "  #4. QUARTO\n",
        "\n",
        "  data16 = []\n",
        "  data17 = []\n",
        "  data18 = []\n",
        "\n",
        "  nome6 = df['facts']['us-gaap']['NetIncomeLoss']['label']\n",
        "\n",
        "\n",
        "  for i in df['facts']['us-gaap']['NetIncomeLoss']['units']['USD']:\n",
        "    if i['form']== '10-K':\n",
        "      data16.append(i['end'])\n",
        "      data17.append(i['filed']) \n",
        "      data18.append(i['val']) \n",
        "  \n",
        "    else:\n",
        "      pass\n",
        "\n",
        "  data16 = pd.DataFrame(data16)\n",
        "  data16.columns =['Data end']\n",
        "  data166 = data16.drop_duplicates(subset='Data end', keep='first')\n",
        "\n",
        "  data18 = pd.DataFrame(data18)\n",
        "  data18.columns =[nome6]\n",
        "  data188 = data18.drop_duplicates(subset=nome6, keep='first')\n",
        "\n",
        "  result6 = pd.concat([data166, data188], axis=1)\n",
        "\n",
        "  dfmerge2 = result1.merge(result4,on='Data end').merge(result5,on='Data end').merge(result6,on='Data end')\n",
        "  dft2 = dfmerge2.transpose()\n",
        "\n",
        "  dft2.to_excel(f'{empresa}-dre.xlsx')\n",
        "\n",
        "  with pd.option_context('display.max_rows', None,\n",
        "                       'display.max_columns', None,\n",
        "                       'display.precision', 3,\n",
        "                       ):\n",
        "    print(dft2.head())\n",
        "\n"
      ],
      "execution_count": null,
      "outputs": []
    },
    {
      "cell_type": "code",
      "metadata": {
        "colab": {
          "base_uri": "https://localhost:8080/"
        },
        "id": "M3tx1ct4SNj3",
        "outputId": "cad331a1-7dbf-4500-cfd1-42df0404e0b1"
      },
      "source": [
        "dre_empresa('0000034088')"
      ],
      "execution_count": null,
      "outputs": [
        {
          "output_type": "stream",
          "text": [
            "                                                    0             1   \\\n",
            "Data end                                    2009-12-31    2010-12-31   \n",
            "Revenues                                  301500000000  370125000000   \n",
            "Interest Expense                             548000000     259000000   \n",
            "Income Taxes Paid, Net                     15427000000   18941000000   \n",
            "Net Income (Loss) Attributable to Parent   19280000000   30460000000   \n",
            "\n",
            "                                                    2             3   \\\n",
            "Data end                                    2011-12-31    2012-12-31   \n",
            "Revenues                                  467029000000  453123000000   \n",
            "Interest Expense                             247000000     327000000   \n",
            "Income Taxes Paid, Net                     27254000000   24349000000   \n",
            "Net Income (Loss) Attributable to Parent   41060000000   44880000000   \n",
            "\n",
            "                                                    4             5   \\\n",
            "Data end                                    2013-12-31    2014-12-31   \n",
            "Revenues                                  420836000000  394105000000   \n",
            "Interest Expense                               9000000     286000000   \n",
            "Income Taxes Paid, Net                     25066000000   18085000000   \n",
            "Net Income (Loss) Attributable to Parent   32580000000   32520000000   \n",
            "\n",
            "                                                    6             7   \\\n",
            "Data end                                    2015-12-31    2016-12-31   \n",
            "Revenues                                  259488000000  218608000000   \n",
            "Interest Expense                             311000000     453000000   \n",
            "Income Taxes Paid, Net                      7269000000    4214000000   \n",
            "Net Income (Loss) Attributable to Parent   16150000000    7840000000   \n",
            "\n",
            "                                                    8             9   \\\n",
            "Data end                                    2017-12-31    2018-12-31   \n",
            "Revenues                                  237162000000  279332000000   \n",
            "Interest Expense                             601000000     766000000   \n",
            "Income Taxes Paid, Net                      7510000000    9294000000   \n",
            "Net Income (Loss) Attributable to Parent   19710000000   20840000000   \n",
            "\n",
            "                                                    10            11  \n",
            "Data end                                    2019-12-31    2020-12-31  \n",
            "Revenues                                  264938000000  181502000000  \n",
            "Interest Expense                             830000000    1158000000  \n",
            "Income Taxes Paid, Net                      7018000000    2428000000  \n",
            "Net Income (Loss) Attributable to Parent   14340000000  -22440000000  \n"
          ],
          "name": "stdout"
        }
      ]
    },
    {
      "cell_type": "markdown",
      "metadata": {
        "id": "VY80ga3MYj4K"
      },
      "source": [
        "Este projeto teve contribuição de Glauco Azevedo."
      ]
    }
  ]
}